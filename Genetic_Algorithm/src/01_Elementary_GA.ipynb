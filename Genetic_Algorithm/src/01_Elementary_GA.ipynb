{
 "cells": [
  {
   "cell_type": "markdown",
   "metadata": {},
   "source": [
    "# Elementary Genetic Algorithm"
   ]
  },
  {
   "cell_type": "markdown",
   "metadata": {},
   "source": [
    "### What is Genetic Algorithm?\n",
    "> Genetic algorithms (GAs) are stochastic search algorithms inspired by the basic principles of biological evolution and natural selection. GAs simulates the evolution of living organisms, where the fittest individuals dominate over the weaker ones, by mimicking the biological mechanism of evolution, such as *selection*, *crossover*, and *mutation*\n",
    "\n",
    "It is applicable in a search/optimization problems.\n",
    "\n",
    "We consider a set of solutions for a given problem and select the set with the best value.\n",
    "\n",
    "Typically GA has five steps:\n",
    "1. **Initial population:**\n",
    "   - process begins with a set of individuals called **population** that represent a potential solution to a given problem\n",
    "   - each individual is characterized by a set of parameters (variables) known as **Genes** each parameter(genes) are joined into a string to form a **Chromosome** representing a solution.\n",
    "2. **Fitness function:**\n",
    "   - function that determines the how fit an individual is among other individuals in the population.\n",
    "   - **fitness score** is assigned to each individual\n",
    "3. **Selection:**\n",
    "   - the fitness score determines the probability that an individual will be selected for reproduction\n",
    "   - pair of individuals (**parents**) are selected based on their fitness scores\n",
    "4. **Crossover:**\n",
    "   - critical part of GA\n",
    "   - for each pair of individuals (parents) that is chosen to reproduce, a **crossover point** is randomly chosen from within the genes\n",
    "<center><img src=\"../assets/images/cross_over.png\" alt=\"Drawing\" width=\"400\"/> </center>\n",
    "   - **Offspring** are created by exchanging the genes of parents among themselves until the crossover point is reached\n",
    "<center><img src=\"../assets/images/new_offspring.png\" alt=\"Drawing\" width=\"400\"/> </center>\n",
    "   - The new offspring are then added to the population\n",
    "5. **Mutation:**\n",
    "   - When new offspring are reproduced, their genes can be mutated with a low random probability. In this context, this implies some of the bits in the Chromosome string can be flipped.\n",
    "<center><img src=\"../assets/images/mutated_offspring.png\" alt=\"Drawing\" width=\"400\"/> </center>\n",
    "\n",
    "**How does the algorithm terminate?**\n",
    "* The algorithm terminates if the population has converged which means that the new generation of offspring does not result in significantly different result than the previous generation.\n",
    "* When convergence happen GA has found a set of solution to the problem.\n",
    "\n",
    "**General Psuedocode:**\n",
    "\n",
    "```\n",
    "START\n",
    "Generate the initial population\n",
    "Compute fitness\n",
    "REPEAT\n",
    "    Selection\n",
    "    Crossover\n",
    "    Mutation\n",
    "    Compute fitness\n",
    "UNTIL population has converged\n",
    "STOP\n",
    "```"
   ]
  }
 ],
 "metadata": {
  "kernelspec": {
   "display_name": "Python 3",
   "language": "python",
   "name": "python3"
  },
  "language_info": {
   "codemirror_mode": {
    "name": "ipython",
    "version": 3
   },
   "file_extension": ".py",
   "mimetype": "text/x-python",
   "name": "python",
   "nbconvert_exporter": "python",
   "pygments_lexer": "ipython3",
   "version": "3.7.9"
  }
 },
 "nbformat": 4,
 "nbformat_minor": 4
}
