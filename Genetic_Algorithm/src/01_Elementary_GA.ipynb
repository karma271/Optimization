{
 "cells": [
  {
   "cell_type": "markdown",
   "metadata": {},
   "source": [
    "# Elementary Genetic Algorithm"
   ]
  },
  {
   "cell_type": "markdown",
   "metadata": {},
   "source": [
    "### What is Genetic Algorithm?\n",
    "> Genetic algorithms (GAs) are stochastic search algorithms inspired by the basic principles of biological evolution and natural selection. GAs simulates the evolution of living organisms, where the fittest individuals dominate over the weaker ones, by mimicking the biological mechanism of evolution, such as *selection*, *crossover*, and *mutation*\n",
    "\n",
    "It is applicable in a search/optimization problems.\n",
    "\n",
    "We consider a set of solutions for a given problem and select the set with the best value.\n",
    "\n",
    "Typically GA has five steps:\n",
    "1. **Initial population:**\n",
    "   - process begins with a set of individuals called **population** that represent a potential solution to a given problem\n",
    "   - each individual is characterized by a set of parameters (variables) known as **Genes** each parameter(genes) are joined into a string to form a **Chromosome** representing a solution.\n",
    "2. **Fitness function:**\n",
    "   - function that determines the how fit an individual is among other individuals in the population.\n",
    "   - **fitness score** is assigned to each individual\n",
    "3. **Selection:**\n",
    "   - the fitness score determines the probability that an individual will be selected for reproduction\n",
    "   - pair of individuals (**parents**) are selected based on their fitness scores\n",
    "4. **Crossover:**\n",
    "   - critical part of GA\n",
    "   - for each pair of individuals (parents) that is chosen to reproduce, a **crossover point** is randomly chosen from within the genes\n",
    "<center><img src=\"../assets/images/cross_over.png\" alt=\"Drawing\" width=\"400\"/> </center>\n",
    "   - **Offspring** are created by exchanging the genes of parents among themselves until the crossover point is reached\n",
    "<center><img src=\"../assets/images/new_offspring.png\" alt=\"Drawing\" width=\"400\"/> </center>\n",
    "   - The new offspring are then added to the population\n",
    "5. **Mutation:**\n",
    "   - When new offspring are reproduced, their genes can be mutated with a low random probability. In this context, this implies some of the bits in the Chromosome string can be flipped.\n",
    "<center><img src=\"../assets/images/mutated_offspring.png\" alt=\"Drawing\" width=\"400\"/> </center>\n",
    "\n",
    "**How does the algorithm terminate?**\n",
    "* The algorithm terminates if the population has converged which means that the new generation of offspring does not result in significantly different result than the previous generation.\n",
    "* When convergence happen GA has found a set of solution to the problem.\n",
    "\n",
    "**General Psuedocode:**\n",
    "\n",
    "```\n",
    "START\n",
    "Generate the initial population\n",
    "Compute fitness\n",
    "REPEAT\n",
    "    Selection\n",
    "    Crossover\n",
    "    Mutation\n",
    "    Compute fitness\n",
    "UNTIL population has converged\n",
    "STOP\n",
    "```"
   ]
  },
  {
   "cell_type": "markdown",
   "metadata": {},
   "source": [
    "## Genetic Algorithm for numeric optimization"
   ]
  },
  {
   "cell_type": "code",
   "execution_count": 1,
   "metadata": {},
   "outputs": [],
   "source": [
    "import numpy as np\n",
    "import matplotlib.pyplot as plt"
   ]
  },
  {
   "cell_type": "code",
   "execution_count": 2,
   "metadata": {},
   "outputs": [],
   "source": [
    "def _fitness(x):\n",
    "    if x > -11 and  x < 11:\n",
    "        y = (x**2 + x)*np.cos(2*x) + x**2\n",
    "        return round(y,0)\n",
    "    else:\n",
    "        return 0\n",
    "\n",
    "fitness = np.vectorize(_fitness)"
   ]
  },
  {
   "cell_type": "code",
   "execution_count": 3,
   "metadata": {},
   "outputs": [
    {
     "data": {
      "image/png": "[encoded data removed]",
      "text/plain": [
       "<Figure size 432x288 with 1 Axes>"
      ]
     },
     "metadata": {
      "needs_background": "light"
     },
     "output_type": "display_data"
    }
   ],
   "source": [
    "x = np.linspace(start=-20, stop=20, num=200)   # popluation \n",
    "plt.plot(x, fitness(x));"
   ]
  },
  {
   "cell_type": "markdown",
   "metadata": {},
   "source": [
    "### GA Optimization for this specific example numerical problem"
   ]
  },
  {
   "cell_type": "markdown",
   "metadata": {},
   "source": [
    "Given a fitness function,  \n",
    "$$ (x) = (x^2 + x) \\times cos(2x) + x^2 $$\n",
    "we are trying to maximize the value of $h(x)$ under the constraint of $N$ generations.\n",
    "\n",
    "**Algorithm outline:**\n",
    "1. Initialize `parent` by creating an array of uniformly distributed values over the domain of $h(x)$\n",
    "2. Calculate the fitness of all individuals in the population\n",
    "    - Keep track of all the fitness score of individual(s) throughout all generations\n",
    "3. Sample the `parents` pair with sampling weights based on fitness \n",
    "    - i.e. those with greater fitness have greater likelihood of being resampled\n",
    "    - these will be used to create `children` for the next generation\n",
    "    - with some `mutation rate` mutate the parents\n",
    "    - with some `crossover rate` select pairs of parents and randomly combine characteristic (bit swapping)\n",
    "4. Population from steps 3 become the children from the previous generation. Repeat steps 2-4\n",
    "\n",
    "Here,\n",
    "- we will have 1 attribute (chromosome) for each individual.\n",
    "- In `mutation` step we'll generate $\\epsilon$ from some symmetrical distribution (either uniform or normal). Then for every unit in the current population we will add or subtract $\\epsilon$.\n",
    "- we will not `crossover` in this example."
   ]
  },
  {
   "cell_type": "code",
   "execution_count": 4,
   "metadata": {},
   "outputs": [],
   "source": [
    "def mutate(parents, fitness_function):\n",
    "    n = int(len(parents))\n",
    "    scores = fitness_function(parents)\n",
    "    idx = scores > 0 ## only get positive values\n",
    "    scores = scores[idx]\n",
    "    parents = np.array(parents)[idx]\n",
    "\n",
    "    \n",
    "    # add some noise for mutation\n",
    "    children = np.random.choice(parents, size=n, p = scores/scores.sum())\n",
    "    children = children + np.random.uniform(-0.51, 0.51, size=n)\n",
    "    \n",
    "    return children.tolist()"
   ]
  },
  {
   "cell_type": "code",
   "execution_count": 5,
   "metadata": {},
   "outputs": [],
   "source": [
    "def GA(parents, fitness_function, popsize=100, max_iter=100):\n",
    "    History = []\n",
    "    \n",
    "    # initial parents, generation 0\n",
    "    best_parents, best_fitness = _get_fittest_parent(parents, fitness)\n",
    "    print(f\"generation 0 | best fitness {best_fitness} | current fitness {best_fitness} | current parent {best_parents}\")\n",
    "    \n",
    "    # plot initial parents\n",
    "    x = np.linspace(start=-20, stop=20, num=140)\n",
    "    plt.plot(x, fitness_function(x))\n",
    "    plt.scatter(parents, fitness_function(parents), marker='x')\n",
    "    \n",
    "    # for each next generation\n",
    "    for i in range(1, max_iter):\n",
    "        parents = mutate(parents, fitness_function = fitness_function)\n",
    "        \n",
    "        curr_parent, curr_fitness = _get_fittest_parent(parents, fitness_function)  # get the fittest individuals\n",
    "        \n",
    "        # update best fitness values\n",
    "        if curr_fitness > best_fitness:\n",
    "            best_fitness = curr_fitness\n",
    "            best_parent = curr_parent\n",
    "        \n",
    "        curr_parent, curr_fitness = _get_fittest_parent(parents, fitness_function)\n",
    "        \n",
    "        if i % 10 == 0:\n",
    "            print(f\"generation {i} | best fitness {best_fitness} | current fitness {curr_fitness} | current parent {curr_parent}\")\n",
    "        \n",
    "        History.append((i, np.max(fitness_function(parents))))\n",
    "    \n",
    "    plt.scatter(parents, fitness_function(parents))\n",
    "    plt.scatter(best_parent, fitness_function(best_parent), marker=\".\", c=\"r\", s=200)\n",
    "    plt.pause(0.09)\n",
    "    plt.ioff()\n",
    "    \n",
    "    # return best parent\n",
    "    print(f\"generation {i} | best fitness {best_fitness} |best parent {best_parent}\")\n",
    "    \n",
    "    return best_parent, best_fitness, History"
   ]
  },
  {
   "cell_type": "code",
   "execution_count": 6,
   "metadata": {},
   "outputs": [],
   "source": [
    "def _get_fittest_parent(parents, fitness):\n",
    "    _fitness = fitness(parents)\n",
    "    PFitness = list(zip(parents, _fitness))\n",
    "    PFitness.sort(key = lambda x:x[1], reverse=True)\n",
    "    best_parent, best_fitness = PFitness[0]\n",
    "    return round(best_parent, 4), round(best_fitness, 4)"
   ]
  },
  {
   "cell_type": "code",
   "execution_count": 7,
   "metadata": {},
   "outputs": [],
   "source": [
    "x = np.linspace(start=-20, stop=20, num=200)\n",
    "init_pop = np.random.uniform(low = -20, high = 20, size=100)"
   ]
  },
  {
   "cell_type": "code",
   "execution_count": 8,
   "metadata": {},
   "outputs": [
    {
     "name": "stdout",
     "output_type": "stream",
     "text": [
      "generation 0 | best fitness 185 | current fitness 185 | current parent 9.6574\n",
      "generation 10 | best fitness 189.0 | current fitness 189.0 | current parent 9.5423\n",
      "generation 20 | best fitness 189.0 | current fitness 189.0 | current parent 9.4889\n",
      "generation 30 | best fitness 189.0 | current fitness 189.0 | current parent 9.5181\n",
      "generation 40 | best fitness 189.0 | current fitness 189.0 | current parent 9.514\n",
      "generation 50 | best fitness 189.0 | current fitness 189.0 | current parent 9.5276\n",
      "generation 60 | best fitness 189.0 | current fitness 189.0 | current parent 9.563\n",
      "generation 70 | best fitness 189.0 | current fitness 189.0 | current parent 9.5387\n",
      "generation 80 | best fitness 189.0 | current fitness 189.0 | current parent 9.4961\n",
      "generation 90 | best fitness 189.0 | current fitness 189.0 | current parent 9.4905\n"
     ]
    },
    {
     "data": {
      "image/png": "[encoded data removed]",
      "text/plain": [
       "<Figure size 432x288 with 1 Axes>"
      ]
     },
     "metadata": {
      "needs_background": "light"
     },
     "output_type": "display_data"
    },
    {
     "name": "stdout",
     "output_type": "stream",
     "text": [
      "generation 99 | best fitness 189.0 |best parent 9.5564\n",
      "top parent 9.5564, top fitness 189.0\n"
     ]
    }
   ],
   "source": [
    "parent_, fitness_, history_ = GA(init_pop, fitness)\n",
    "print(f\"top parent {parent_}, top fitness {fitness_}\")"
   ]
  },
  {
   "cell_type": "code",
   "execution_count": null,
   "metadata": {},
   "outputs": [],
   "source": []
  }
 ],
 "metadata": {
  "kernelspec": {
   "display_name": "Python 3",
   "language": "python",
   "name": "python3"
  },
  "language_info": {
   "codemirror_mode": {
    "name": "ipython",
    "version": 3
   },
   "file_extension": ".py",
   "mimetype": "text/x-python",
   "name": "python",
   "nbconvert_exporter": "python",
   "pygments_lexer": "ipython3",
   "version": "3.7.9"
  }
 },
 "nbformat": 4,
 "nbformat_minor": 4
}
